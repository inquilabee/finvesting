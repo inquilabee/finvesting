{
 "cells": [
  {
   "cell_type": "code",
   "execution_count": null,
   "id": "c2a030eb-858f-4354-9312-a5e35d4b7ebf",
   "metadata": {
    "execution": {
     "iopub.execute_input": "2024-07-27T18:25:07.323394Z",
     "iopub.status.busy": "2024-07-27T18:25:07.323156Z",
     "iopub.status.idle": "2024-07-27T18:25:08.063969Z",
     "shell.execute_reply": "2024-07-27T18:25:08.063291Z"
    }
   },
   "outputs": [],
   "source": [
    "import pandas as pd\n",
    "import nsepython as nse\n",
    "import pprint"
   ]
  },
  {
   "cell_type": "code",
   "execution_count": null,
   "id": "76d77c08-bdc6-458e-b98b-b7cf8c8a2ff7",
   "metadata": {
    "execution": {
     "iopub.execute_input": "2024-07-27T18:25:08.067532Z",
     "iopub.status.busy": "2024-07-27T18:25:08.067243Z",
     "iopub.status.idle": "2024-07-27T18:25:08.538578Z",
     "shell.execute_reply": "2024-07-27T18:25:08.537921Z"
    }
   },
   "outputs": [],
   "source": [
    "pd.DataFrame(nse.index_info(nse.indices[0]))"
   ]
  },
  {
   "cell_type": "code",
   "execution_count": null,
   "id": "173d71ac-868b-4f2a-9183-444aa2aa9ca7",
   "metadata": {
    "execution": {
     "iopub.execute_input": "2024-07-27T18:25:08.542261Z",
     "iopub.status.busy": "2024-07-27T18:25:08.541850Z",
     "iopub.status.idle": "2024-07-27T18:25:09.419616Z",
     "shell.execute_reply": "2024-07-27T18:25:09.418779Z"
    }
   },
   "outputs": [],
   "source": [
    "nse.nse_eq_symbols()"
   ]
  },
  {
   "cell_type": "code",
   "execution_count": null,
   "id": "6139147d-3c9d-41bc-8552-d18363d52f22",
   "metadata": {
    "execution": {
     "iopub.execute_input": "2024-07-27T18:25:09.422780Z",
     "iopub.status.busy": "2024-07-27T18:25:09.422387Z",
     "iopub.status.idle": "2024-07-27T18:25:11.349755Z",
     "shell.execute_reply": "2024-07-27T18:25:11.349049Z"
    }
   },
   "outputs": [],
   "source": [
    "pprint.pprint(nse.nse_eq(\"RELIANCE\"))"
   ]
  }
 ],
 "metadata": {
  "kernelspec": {
   "display_name": "Python 3 (ipykernel)",
   "language": "python",
   "name": "python3"
  },
  "language_info": {
   "codemirror_mode": {
    "name": "ipython",
    "version": 3
   },
   "file_extension": ".py",
   "mimetype": "text/x-python",
   "name": "python",
   "nbconvert_exporter": "python",
   "pygments_lexer": "ipython3",
   "version": "3.10.14"
  }
 },
 "nbformat": 4,
 "nbformat_minor": 5
}
