{
 "cells": [
  {
   "cell_type": "code",
   "execution_count": 1,
   "id": "c2a030eb-858f-4354-9312-a5e35d4b7ebf",
   "metadata": {},
   "outputs": [],
   "source": [
    "import pandas as pd"
   ]
  },
  {
   "cell_type": "code",
   "execution_count": 2,
   "id": "10615f9a-fee5-423d-b1b3-238d42c54a37",
   "metadata": {},
   "outputs": [],
   "source": [
    "import nsepython as nse"
   ]
  },
  {
   "cell_type": "code",
   "execution_count": 3,
   "id": "f8db18be-69a7-4e24-9658-58b7e3314636",
   "metadata": {},
   "outputs": [],
   "source": [
    "import pprint"
   ]
  },
  {
   "cell_type": "code",
   "execution_count": 4,
   "id": "f5717fd1-0e9b-46fa-8059-b01b98c28205",
   "metadata": {},
   "outputs": [
    {
     "data": {
      "text/plain": [
       "['__builtins__',\n",
       " '__cached__',\n",
       " '__doc__',\n",
       " '__file__',\n",
       " '__loader__',\n",
       " '__name__',\n",
       " '__package__',\n",
       " '__path__',\n",
       " '__spec__',\n",
       " '__version__',\n",
       " 'black_scholes_dexter',\n",
       " 'curl_headers',\n",
       " 'datetime',\n",
       " 'derivative_history',\n",
       " 'derivative_history_virgin',\n",
       " 'equity_history',\n",
       " 'equity_history_virgin',\n",
       " 'expiry_history',\n",
       " 'expiry_list',\n",
       " 'fnolist',\n",
       " 'get_beta',\n",
       " 'get_beta_df_maker',\n",
       " 'get_bhavcopy',\n",
       " 'get_blockdeals',\n",
       " 'get_bulkdeals',\n",
       " 'get_fao_participant_oi',\n",
       " 'getbeta',\n",
       " 'headers',\n",
       " 'holiday_master',\n",
       " 'index_history',\n",
       " 'index_info',\n",
       " 'index_pe_pb_div',\n",
       " 'index_total_returns',\n",
       " 'indiavix',\n",
       " 'indices',\n",
       " 'is_market_open',\n",
       " 'json',\n",
       " 'logging',\n",
       " 'math',\n",
       " 'mode',\n",
       " 'niftyindices_headers',\n",
       " 'norm',\n",
       " 'nse_blockdeal',\n",
       " 'nse_circular',\n",
       " 'nse_custom_function_secfno',\n",
       " 'nse_eq',\n",
       " 'nse_eq_symbols',\n",
       " 'nse_events',\n",
       " 'nse_expirydetails',\n",
       " 'nse_expirydetails_by_symbol',\n",
       " 'nse_fiidii',\n",
       " 'nse_fno',\n",
       " 'nse_get_advances_declines',\n",
       " 'nse_get_fno_lot_sizes',\n",
       " 'nse_get_index_list',\n",
       " 'nse_get_index_quote',\n",
       " 'nse_get_top_gainers',\n",
       " 'nse_get_top_losers',\n",
       " 'nse_holidays',\n",
       " 'nse_index',\n",
       " 'nse_largedeals',\n",
       " 'nse_largedeals_historical',\n",
       " 'nse_marketStatus',\n",
       " 'nse_most_active',\n",
       " 'nse_optionchain_ltp',\n",
       " 'nse_optionchain_scrapper',\n",
       " 'nse_past_results',\n",
       " 'nse_preopen',\n",
       " 'nse_preopen_movers',\n",
       " 'nse_price_band_hitters',\n",
       " 'nse_quote',\n",
       " 'nse_quote_ltp',\n",
       " 'nse_quote_meta',\n",
       " 'nse_results',\n",
       " 'nsefetch',\n",
       " 'nsesymbolpurify',\n",
       " 'nsetools_get_quote',\n",
       " 'oi_chain_builder',\n",
       " 'option_chain',\n",
       " 'os',\n",
       " 'pcr',\n",
       " 'pd',\n",
       " 'quote_derivative',\n",
       " 'quote_equity',\n",
       " 'rahu',\n",
       " 'random',\n",
       " 're',\n",
       " 'requests',\n",
       " 'run_time',\n",
       " 'running_status',\n",
       " 'security_wise_archive',\n",
       " 'sys',\n",
       " 'time',\n",
       " 'urllib',\n",
       " 'whoistheboss']"
      ]
     },
     "execution_count": 4,
     "metadata": {},
     "output_type": "execute_result"
    }
   ],
   "source": [
    "dir(nse)"
   ]
  },
  {
   "cell_type": "code",
   "execution_count": 5,
   "id": "76d77c08-bdc6-458e-b98b-b7cf8c8a2ff7",
   "metadata": {},
   "outputs": [
    {
     "data": {
      "text/html": [
       "<div>\n",
       "<style scoped>\n",
       "    .dataframe tbody tr th:only-of-type {\n",
       "        vertical-align: middle;\n",
       "    }\n",
       "\n",
       "    .dataframe tbody tr th {\n",
       "        vertical-align: top;\n",
       "    }\n",
       "\n",
       "    .dataframe thead th {\n",
       "        text-align: right;\n",
       "    }\n",
       "</style>\n",
       "<table border=\"1\" class=\"dataframe\">\n",
       "  <thead>\n",
       "    <tr style=\"text-align: right;\">\n",
       "      <th></th>\n",
       "    </tr>\n",
       "  </thead>\n",
       "  <tbody>\n",
       "  </tbody>\n",
       "</table>\n",
       "</div>"
      ],
      "text/plain": [
       "Empty DataFrame\n",
       "Columns: []\n",
       "Index: []"
      ]
     },
     "execution_count": 5,
     "metadata": {},
     "output_type": "execute_result"
    }
   ],
   "source": [
    "pd.DataFrame(nse.index_info(nse.indices[0]))"
   ]
  },
  {
   "cell_type": "code",
   "execution_count": 6,
   "id": "f41a4aa8-47da-4956-bfc2-c179fea53db3",
   "metadata": {},
   "outputs": [
    {
     "name": "stdout",
     "output_type": "stream",
     "text": [
      "Empty DataFrame\n",
      "Columns: []\n",
      "Index: []\n"
     ]
    }
   ],
   "source": [
    "print(_)"
   ]
  },
  {
   "cell_type": "code",
   "execution_count": 7,
   "id": "173d71ac-868b-4f2a-9183-444aa2aa9ca7",
   "metadata": {},
   "outputs": [
    {
     "data": {
      "text/plain": [
       "1982"
      ]
     },
     "execution_count": 7,
     "metadata": {},
     "output_type": "execute_result"
    }
   ],
   "source": [
    "nse.nse_eq_symbols().__len__()"
   ]
  },
  {
   "cell_type": "code",
   "execution_count": 8,
   "id": "6139147d-3c9d-41bc-8552-d18363d52f22",
   "metadata": {},
   "outputs": [
    {
     "name": "stdout",
     "output_type": "stream",
     "text": [
      "{'industryInfo': {'basicIndustry': 'Refineries & Marketing',\n",
      "                  'industry': 'Petroleum Products',\n",
      "                  'macro': 'Energy',\n",
      "                  'sector': 'Oil Gas & Consumable Fuels'},\n",
      " 'info': {'activeSeries': ['EQ'],\n",
      "          'companyName': 'Reliance Industries Limited',\n",
      "          'debtSeries': [],\n",
      "          'identifier': 'RELIANCEEQN',\n",
      "          'industry': 'REFINERIES',\n",
      "          'isCASec': False,\n",
      "          'isDebtSec': False,\n",
      "          'isDelisted': False,\n",
      "          'isETFSec': False,\n",
      "          'isFNOSec': True,\n",
      "          'isMunicipalBond': False,\n",
      "          'isSLBSec': True,\n",
      "          'isSuspended': False,\n",
      "          'isTop10': False,\n",
      "          'isin': 'INE002A01018',\n",
      "          'symbol': 'RELIANCE',\n",
      "          'tempSuspendedSeries': []},\n",
      " 'metadata': {'industry': 'Refineries & Marketing',\n",
      "              'isin': 'INE002A01018',\n",
      "              'lastUpdateTime': '05-Jul-2024 16:00:00',\n",
      "              'listingDate': '29-Nov-1995',\n",
      "              'pdSectorInd': 'NA',\n",
      "              'pdSectorPe': 'NA',\n",
      "              'pdSymbolPe': 'NA',\n",
      "              'series': 'EQ',\n",
      "              'status': 'Listed',\n",
      "              'symbol': 'RELIANCE'},\n",
      " 'preOpenMarket': {'Change': -0.40000000000009095,\n",
      "                   'IEP': 3107.65,\n",
      "                   'ato': {'buy': 849, 'sell': 1189},\n",
      "                   'atoBuyQty': 849,\n",
      "                   'atoSellQty': 1189,\n",
      "                   'finalPrice': 3107.65,\n",
      "                   'finalQuantity': 16121,\n",
      "                   'lastUpdateTime': '05-Jul-2024 09:07:51',\n",
      "                   'perChange': -0.012869805826807513,\n",
      "                   'preopen': [{'buyQty': 0, 'price': 2949.35, 'sellQty': 1},\n",
      "                               {'buyQty': 0, 'price': 2952.65, 'sellQty': 4083},\n",
      "                               {'buyQty': 0, 'price': 2968.85, 'sellQty': 1},\n",
      "                               {'buyQty': 0, 'price': 2990.5, 'sellQty': 300},\n",
      "                               {'buyQty': 0,\n",
      "                                'iep': True,\n",
      "                                'price': 3107.65,\n",
      "                                'sellQty': 0},\n",
      "                               {'buyQty': 10, 'price': 3356.1, 'sellQty': 0},\n",
      "                               {'buyQty': 10, 'price': 3401, 'sellQty': 0},\n",
      "                               {'buyQty': 1, 'price': 3418, 'sellQty': 0},\n",
      "                               {'buyQty': 2035,\n",
      "                                'price': 3418.85,\n",
      "                                'sellQty': 0}],\n",
      "                   'prevClose': 3108.05,\n",
      "                   'totalBuyQuantity': 56887,\n",
      "                   'totalSellQuantity': 105580,\n",
      "                   'totalTradedVolume': 16121},\n",
      " 'priceInfo': {'basePrice': 3108.05,\n",
      "               'change': 81.84999999999991,\n",
      "               'checkINAV': False,\n",
      "               'close': 3177.25,\n",
      "               'iNavValue': None,\n",
      "               'intraDayHighLow': {'max': 3197, 'min': 3096, 'value': 3189.9},\n",
      "               'lastPrice': 3189.9,\n",
      "               'lowerCP': '2797.25',\n",
      "               'open': 3107.65,\n",
      "               'pChange': 2.6334840173098857,\n",
      "               'pPriceBand': 'No Band',\n",
      "               'previousClose': 3108.05,\n",
      "               'upperCP': '3418.85',\n",
      "               'vwap': 3149.82,\n",
      "               'weekHighLow': {'max': 3197,\n",
      "                               'maxDate': '05-Jul-2024',\n",
      "                               'min': 2220.3,\n",
      "                               'minDate': '26-Oct-2023',\n",
      "                               'value': 3189.9}},\n",
      " 'sddDetails': {'SDDAuditor': '-', 'SDDStatus': '-'},\n",
      " 'securityInfo': {'boardStatus': 'Main',\n",
      "                  'classOfShare': 'Equity',\n",
      "                  'derivatives': 'Yes',\n",
      "                  'faceValue': 10,\n",
      "                  'issuedSize': 6765814363,\n",
      "                  'sessionNo': '-',\n",
      "                  'slb': 'Yes',\n",
      "                  'surveillance': {'desc': None, 'surv': None},\n",
      "                  'tradingSegment': 'Normal Market',\n",
      "                  'tradingStatus': 'Active'}}\n"
     ]
    }
   ],
   "source": [
    "pprint.pprint(nse.nse_eq(\"RELIANCE\"))"
   ]
  },
  {
   "cell_type": "code",
   "execution_count": 9,
   "id": "3e0cbb9e-1206-424e-97a8-1c2a5c443176",
   "metadata": {},
   "outputs": [
    {
     "ename": "AttributeError",
     "evalue": "module 'nsepython' has no attribute 'get_'",
     "output_type": "error",
     "traceback": [
      "\u001b[0;31m---------------------------------------------------------------------------\u001b[0m",
      "\u001b[0;31mAttributeError\u001b[0m                            Traceback (most recent call last)",
      "Cell \u001b[0;32mIn[9], line 1\u001b[0m\n\u001b[0;32m----> 1\u001b[0m \u001b[43mnse\u001b[49m\u001b[38;5;241;43m.\u001b[39;49m\u001b[43mget_\u001b[49m\n",
      "\u001b[0;31mAttributeError\u001b[0m: module 'nsepython' has no attribute 'get_'"
     ]
    }
   ],
   "source": []
  }
 ],
 "metadata": {
  "kernelspec": {
   "display_name": "Python 3 (ipykernel)",
   "language": "python",
   "name": "python3"
  },
  "language_info": {
   "codemirror_mode": {
    "name": "ipython",
    "version": 3
   },
   "file_extension": ".py",
   "mimetype": "text/x-python",
   "name": "python",
   "nbconvert_exporter": "python",
   "pygments_lexer": "ipython3",
   "version": "3.10.12"
  }
 },
 "nbformat": 4,
 "nbformat_minor": 5
}
