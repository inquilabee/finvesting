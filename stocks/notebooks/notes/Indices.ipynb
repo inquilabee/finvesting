{
 "cells": [
  {
   "cell_type": "code",
   "execution_count": null,
   "id": "5120813d-bf11-4bcd-bae2-fb25d6a70ddc",
   "metadata": {
    "execution": {
     "iopub.execute_input": "2024-07-27T18:25:00.393781Z",
     "iopub.status.busy": "2024-07-27T18:25:00.393508Z",
     "iopub.status.idle": "2024-07-27T18:25:01.819594Z",
     "shell.execute_reply": "2024-07-27T18:25:01.818776Z"
    }
   },
   "outputs": [],
   "source": [
    "\n",
    "import investpy\n",
    "import nsepython as nse"
   ]
  },
  {
   "cell_type": "code",
   "execution_count": null,
   "id": "1b94b725-e8ad-41c7-a1f5-c66a5d75a183",
   "metadata": {
    "execution": {
     "iopub.execute_input": "2024-07-27T18:25:01.823615Z",
     "iopub.status.busy": "2024-07-27T18:25:01.823061Z",
     "iopub.status.idle": "2024-07-27T18:25:01.826737Z",
     "shell.execute_reply": "2024-07-27T18:25:01.826096Z"
    }
   },
   "outputs": [],
   "source": [
    "INVESTPY_COUNTRY = \"India\""
   ]
  },
  {
   "cell_type": "code",
   "execution_count": null,
   "id": "58e62c77-7509-46d7-8c43-cd157b53269a",
   "metadata": {
    "execution": {
     "iopub.execute_input": "2024-07-27T18:25:01.829351Z",
     "iopub.status.busy": "2024-07-27T18:25:01.828957Z",
     "iopub.status.idle": "2024-07-27T18:25:01.871541Z",
     "shell.execute_reply": "2024-07-27T18:25:01.870776Z"
    }
   },
   "outputs": [],
   "source": [
    "investpy.indices.get_indices(country=INVESTPY_COUNTRY).query(\"currency == 'INR'\")"
   ]
  },
  {
   "cell_type": "code",
   "execution_count": null,
   "id": "9d6664ab-3521-4a42-847e-a56780b1f45c",
   "metadata": {
    "execution": {
     "iopub.execute_input": "2024-07-27T18:25:01.874512Z",
     "iopub.status.busy": "2024-07-27T18:25:01.874292Z",
     "iopub.status.idle": "2024-07-27T18:25:01.877542Z",
     "shell.execute_reply": "2024-07-27T18:25:01.876770Z"
    }
   },
   "outputs": [],
   "source": [
    "# investpy.indices.get_indices_overview(country=INVESTPY_COUNTRY)"
   ]
  },
  {
   "cell_type": "code",
   "execution_count": null,
   "id": "a4bfff1d-558b-4ac9-9e2f-082848564cce",
   "metadata": {
    "execution": {
     "iopub.execute_input": "2024-07-27T18:25:01.880004Z",
     "iopub.status.busy": "2024-07-27T18:25:01.879619Z",
     "iopub.status.idle": "2024-07-27T18:25:01.882499Z",
     "shell.execute_reply": "2024-07-27T18:25:01.881957Z"
    }
   },
   "outputs": [],
   "source": [
    "# investpy.indices.get_index_information(country=INVESTPY_COUNTRY, index=\"Nifty 500\")"
   ]
  },
  {
   "cell_type": "code",
   "execution_count": null,
   "id": "27543219",
   "metadata": {
    "execution": {
     "iopub.execute_input": "2024-07-27T18:25:01.885066Z",
     "iopub.status.busy": "2024-07-27T18:25:01.884585Z",
     "iopub.status.idle": "2024-07-27T18:25:01.887447Z",
     "shell.execute_reply": "2024-07-27T18:25:01.886916Z"
    }
   },
   "outputs": [],
   "source": [
    "# search_result = investpy.search_quotes(\n",
    "#     text=\"RELIANCE>NS\", products=[\"stocks\"], countries=[\"india\"], n_results=1\n",
    "# )\n",
    "# sector = search_result.retrieve_sector()"
   ]
  },
  {
   "cell_type": "code",
   "execution_count": null,
   "id": "50e45e3e",
   "metadata": {
    "execution": {
     "iopub.execute_input": "2024-07-27T18:25:01.889720Z",
     "iopub.status.busy": "2024-07-27T18:25:01.889526Z",
     "iopub.status.idle": "2024-07-27T18:25:03.328902Z",
     "shell.execute_reply": "2024-07-27T18:25:03.328074Z"
    }
   },
   "outputs": [],
   "source": [
    "indexes = nse.nse_get_index_list()\n",
    "\n",
    "indexes"
   ]
  },
  {
   "cell_type": "code",
   "execution_count": null,
   "id": "32e07fcb",
   "metadata": {
    "execution": {
     "iopub.execute_input": "2024-07-27T18:25:03.332338Z",
     "iopub.status.busy": "2024-07-27T18:25:03.331913Z",
     "iopub.status.idle": "2024-07-27T18:25:03.774478Z",
     "shell.execute_reply": "2024-07-27T18:25:03.773743Z"
    }
   },
   "outputs": [],
   "source": [
    "df = nse.nse_index()\n",
    "\n",
    "df"
   ]
  },
  {
   "cell_type": "code",
   "execution_count": null,
   "id": "00dca268",
   "metadata": {
    "execution": {
     "iopub.execute_input": "2024-07-27T18:25:03.777500Z",
     "iopub.status.busy": "2024-07-27T18:25:03.777049Z",
     "iopub.status.idle": "2024-07-27T18:25:04.743469Z",
     "shell.execute_reply": "2024-07-27T18:25:04.742679Z"
    }
   },
   "outputs": [],
   "source": [
    "nse.index_info(\"NIFTY 50\")"
   ]
  },
  {
   "cell_type": "code",
   "execution_count": null,
   "id": "504eb918",
   "metadata": {
    "execution": {
     "iopub.execute_input": "2024-07-27T18:25:04.746593Z",
     "iopub.status.busy": "2024-07-27T18:25:04.746151Z",
     "iopub.status.idle": "2024-07-27T18:25:04.759248Z",
     "shell.execute_reply": "2024-07-27T18:25:04.758648Z"
    }
   },
   "outputs": [],
   "source": [
    "df[df[\"yearHigh\"] != \"-\"]"
   ]
  },
  {
   "cell_type": "code",
   "execution_count": null,
   "id": "dc4630bd",
   "metadata": {
    "execution": {
     "iopub.execute_input": "2024-07-27T18:25:04.761766Z",
     "iopub.status.busy": "2024-07-27T18:25:04.761322Z",
     "iopub.status.idle": "2024-07-27T18:25:04.765390Z",
     "shell.execute_reply": "2024-07-27T18:25:04.764746Z"
    }
   },
   "outputs": [],
   "source": [
    "nse.indices"
   ]
  }
 ],
 "metadata": {
  "kernelspec": {
   "display_name": "Python 3 (ipykernel)",
   "language": "python",
   "name": "python3"
  },
  "language_info": {
   "codemirror_mode": {
    "name": "ipython",
    "version": 3
   },
   "file_extension": ".py",
   "mimetype": "text/x-python",
   "name": "python",
   "nbconvert_exporter": "python",
   "pygments_lexer": "ipython3",
   "version": "3.10.12"
  }
 },
 "nbformat": 4,
 "nbformat_minor": 5
}
