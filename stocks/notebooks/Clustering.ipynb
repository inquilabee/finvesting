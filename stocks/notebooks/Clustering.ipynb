{
 "cells": [
  {
   "cell_type": "code",
   "execution_count": null,
   "metadata": {
    "execution": {
     "iopub.execute_input": "2024-07-27T18:25:13.873421Z",
     "iopub.status.busy": "2024-07-27T18:25:13.873187Z",
     "iopub.status.idle": "2024-07-27T18:25:13.881056Z",
     "shell.execute_reply": "2024-07-27T18:25:13.880488Z"
    }
   },
   "outputs": [],
   "source": [
    "import os\n",
    "import sys\n",
    "from pathlib import Path\n",
    "\n",
    "curr_dir = Path(os.getcwd())\n",
    "\n",
    "sys.path.append(str(curr_dir.parent.parent.absolute()))"
   ]
  },
  {
   "cell_type": "code",
   "execution_count": null,
   "metadata": {
    "execution": {
     "iopub.execute_input": "2024-07-27T18:25:13.883711Z",
     "iopub.status.busy": "2024-07-27T18:25:13.883451Z",
     "iopub.status.idle": "2024-07-27T18:25:15.889992Z",
     "shell.execute_reply": "2024-07-27T18:25:15.889175Z"
    }
   },
   "outputs": [],
   "source": [
    "import sys\n",
    "import pandas as pd\n",
    "from sklearn.preprocessing import StandardScaler\n",
    "from sklearn.cluster import KMeans\n",
    "from sklearn.metrics import silhouette_score\n",
    "\n",
    "import matplotlib.pyplot as plt\n",
    "import seaborn as sns\n",
    "\n",
    "from stocks.resource import camel_to_snake, StocksDataAPI\n",
    "\n",
    "\n",
    "df = StocksDataAPI().stock_info\n",
    "\n",
    "\n",
    "\n",
    "# Select relevant features for clustering\n",
    "features = list(\n",
    "    map(\n",
    "        camel_to_snake,\n",
    "        [\n",
    "            \"marketCap\",\n",
    "            \"enterpriseValue\",\n",
    "            \"totalRevenue\",\n",
    "            \"ebitda\",\n",
    "            \"freeCashflow\",\n",
    "            \"priceToBook\",\n",
    "            \"priceToSalesTrailing12Months\",\n",
    "            \"enterpriseToRevenue\",\n",
    "            \"enterpriseToEbitda\",\n",
    "            \"trailingPE\",\n",
    "            \"profitMargins\",\n",
    "            \"grossMargins\",\n",
    "            \"ebitdaMargins\",\n",
    "            \"operatingMargins\",\n",
    "            \"earningsGrowth\",\n",
    "            \"revenueGrowth\",\n",
    "            \"earningsQuarterlyGrowth\",\n",
    "            \"netIncomeToCommon\",\n",
    "            \"trailingEps\",\n",
    "            \"debtToEquity\",\n",
    "            \"quickRatio\",\n",
    "            \"currentRatio\",\n",
    "            \"returnOnAssets\",\n",
    "            \"returnOnEquity\",\n",
    "            \"beta\",\n",
    "            \"fiftyTwoWeekLow\",\n",
    "            \"fiftyTwoWeekHigh\",\n",
    "            \"fiftyDayAverage\",\n",
    "            \"twoHundredDayAverage\",\n",
    "        ],\n",
    "    )\n",
    ")\n",
    "\n",
    "# Filter out stocks with missing values in the selected features\n",
    "df_filtered = df.dropna(subset=features)\n",
    "\n",
    "# Standardize the data\n",
    "scaler = StandardScaler()\n",
    "scaled_features = scaler.fit_transform(df_filtered[features])\n",
    "\n",
    "# Convert scaled features back to a DataFrame\n",
    "scaled_df = pd.DataFrame(scaled_features, columns=features)\n",
    "\n",
    "# Determine the optimal number of clusters using the elbow method\n",
    "inertia = []\n",
    "for k in range(2, 10):\n",
    "    kmeans = KMeans(n_clusters=k, random_state=42)\n",
    "    kmeans.fit(scaled_df)\n",
    "    inertia.append(kmeans.inertia_)\n",
    "\n",
    "\n",
    "# Plot the elbow curve\n",
    "plt.plot(range(2, 10), inertia, marker=\"o\")\n",
    "plt.xlabel(\"Number of Clusters\")\n",
    "plt.ylabel(\"Inertia\")\n",
    "plt.title(\"Elbow Method\")\n",
    "plt.show()\n",
    "\n",
    "# Based on the elbow method, choose an optimal number of clusters\n",
    "optimal_clusters = 7  # choice based on elbow plot\n",
    "\n",
    "# Apply K-Means clustering\n",
    "kmeans = KMeans(n_clusters=optimal_clusters, random_state=42)\n",
    "df_filtered[\"Cluster\"] = kmeans.fit_predict(scaled_df)\n",
    "\n",
    "# Calculate silhouette score to evaluate clustering quality\n",
    "sil_score = silhouette_score(scaled_df, df_filtered[\"Cluster\"])\n",
    "print(f\"Silhouette Score: {sil_score}\")"
   ]
  },
  {
   "cell_type": "code",
   "execution_count": null,
   "metadata": {
    "execution": {
     "iopub.execute_input": "2024-07-27T18:25:15.906629Z",
     "iopub.status.busy": "2024-07-27T18:25:15.906266Z",
     "iopub.status.idle": "2024-07-27T18:25:15.934132Z",
     "shell.execute_reply": "2024-07-27T18:25:15.933467Z"
    }
   },
   "outputs": [],
   "source": [
    "df_filtered"
   ]
  },
  {
   "cell_type": "code",
   "execution_count": null,
   "metadata": {
    "execution": {
     "iopub.execute_input": "2024-07-27T18:25:15.938359Z",
     "iopub.status.busy": "2024-07-27T18:25:15.936955Z",
     "iopub.status.idle": "2024-07-27T18:25:15.945558Z",
     "shell.execute_reply": "2024-07-27T18:25:15.944978Z"
    }
   },
   "outputs": [],
   "source": [
    "df_filtered.groupby(\"Cluster\").size()"
   ]
  },
  {
   "cell_type": "code",
   "execution_count": null,
   "metadata": {
    "execution": {
     "iopub.execute_input": "2024-07-27T18:25:15.949520Z",
     "iopub.status.busy": "2024-07-27T18:25:15.948687Z",
     "iopub.status.idle": "2024-07-27T18:25:16.555606Z",
     "shell.execute_reply": "2024-07-27T18:25:16.554722Z"
    }
   },
   "outputs": [],
   "source": [
    "# Analyze the characteristics of each cluster\n",
    "cluster_summary = df_filtered.groupby(\"Cluster\").describe().transpose()\n",
    "cluster_summary"
   ]
  },
  {
   "cell_type": "code",
   "execution_count": null,
   "metadata": {
    "execution": {
     "iopub.execute_input": "2024-07-27T18:25:16.558931Z",
     "iopub.status.busy": "2024-07-27T18:25:16.558371Z",
     "iopub.status.idle": "2024-07-27T18:25:16.768137Z",
     "shell.execute_reply": "2024-07-27T18:25:16.767329Z"
    }
   },
   "outputs": [],
   "source": [
    "# Example visualization of clusters\n",
    "plt.figure(figsize=(12, 8))\n",
    "sns.scatterplot(\n",
    "    x=\"market_cap\", y=\"price_to_book\", hue=\"Cluster\", data=df_filtered, palette=\"Set1\"\n",
    ")\n",
    "plt.title(\"Clusters based on Market Cap and Price to Book Ratio\")\n",
    "plt.show()"
   ]
  }
 ],
 "metadata": {
  "kernelspec": {
   "display_name": ".venv",
   "language": "python",
   "name": "python3"
  },
  "language_info": {
   "codemirror_mode": {
    "name": "ipython",
    "version": 3
   },
   "file_extension": ".py",
   "mimetype": "text/x-python",
   "name": "python",
   "nbconvert_exporter": "python",
   "pygments_lexer": "ipython3",
   "version": "3.10.14"
  }
 },
 "nbformat": 4,
 "nbformat_minor": 2
}
